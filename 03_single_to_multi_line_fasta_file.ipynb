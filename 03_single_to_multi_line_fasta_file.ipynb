{
 "cells": [
  {
   "cell_type": "code",
   "execution_count": 1,
   "id": "e8fcc81f",
   "metadata": {},
   "outputs": [],
   "source": [
    "def convert_fasta(input_path, output_path):\n",
    "    with open(input_path, 'r') as infile, open(output_path, 'w') as outfile:\n",
    "        sequence = \"\"\n",
    "        header = \"\"\n",
    "        for line in infile:\n",
    "            line = line.strip()\n",
    "            if line.startswith(\">\"):\n",
    "                if header:\n",
    "                    outfile.write(header + \"\\n\")\n",
    "                    outfile.write(sequence + \"\\n\")\n",
    "                header = line\n",
    "                sequence = \"\"\n",
    "            else:\n",
    "                sequence += line\n",
    "        if header:\n",
    "            outfile.write(header + \"\\n\")\n",
    "            outfile.write(sequence + \"\\n\")\n",
    "\n",
 
    "convert_fasta(r\"C:\\Users\\Lakhv\\Documents\\bee assignment\\multiline_input.fasta\", r\"C:\\Users\\Lakhv\\Documents\\bee assignment\\output.fasta\")\n"
   ]
  }
 ],
 "metadata": {
  "kernelspec": {
   "display_name": "base",
   "language": "python",
   "name": "python3"
  },
  "language_info": {
   "codemirror_mode": {
    "name": "ipython",
    "version": 3
   },
   "file_extension": ".py",
   "mimetype": "text/x-python",
   "name": "python",
   "nbconvert_exporter": "python",
   "pygments_lexer": "ipython3",
   "version": "3.12.8"
  }
 },
 "nbformat": 4,
 "nbformat_minor": 5
}
