{
 "cells": [
  {
   "cell_type": "code",
   "execution_count": 1,
   "id": "ffe1cc72",
   "metadata": {},
   "outputs": [
    {
     "name": "stdout",
     "output_type": "stream",
     "text": [
      "     A         C     G         T\n",
      "A  0.0  0.100000  0.70  0.200000\n",
      "C  0.0  0.000000  0.25  0.750000\n",
      "G  0.0  0.777778  0.00  0.222222\n",
      "T  1.0  0.000000  0.00  0.000000\n"
     ]
    }
   ],
   "source": [
    "import pandas as pd\n",
    "import numpy as np\n",
    "def Transition_matrix(sequence):\n",
    "    counts = np.zeros((4, 4))\n",
    "    index = {'A' :0,'C':1,'G':2,'T':3}\n",
    "    for i in range(len(sequence)-1):\n",
    "        i_char = sequence[i]\n",
    "        next_char = sequence[i+1]\n",
    "        counts[index[i_char]][index[next_char]]+=1\n",
    "    \n",
    "    for i in range(4):\n",
    "        sum = 0\n",
    "        for j in range(4):\n",
    "            sum += counts[i][j]  \n",
    "        \n",
    "        counts[i] = counts[i]/sum\n",
    "    \n",
    "    \n",
    "    counts = pd.DataFrame(counts, index=index.keys(), columns=index.keys())        \n",
    "    return counts\n",
    "\n",
    "mat = Transition_matrix(\"ACGTAGCGTATAGCTAGCTAGCTAGCTATAGCTAGCTA\")\n",
    "print(mat)"
   ]
  }
 ],
 "metadata": {
  "kernelspec": {
   "display_name": "base",
   "language": "python",
   "name": "python3"
  },
  "language_info": {
   "codemirror_mode": {
    "name": "ipython",
    "version": 3
   },
   "file_extension": ".py",
   "mimetype": "text/x-python",
   "name": "python",
   "nbconvert_exporter": "python",
   "pygments_lexer": "ipython3",
   "version": "3.12.8"
  }
 },
 "nbformat": 4,
 "nbformat_minor": 5
}
